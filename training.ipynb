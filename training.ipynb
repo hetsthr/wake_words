{
 "cells": [
  {
   "cell_type": "code",
   "execution_count": 81,
   "id": "controlling-blast",
   "metadata": {},
   "outputs": [],
   "source": [
    "from os import listdir\n",
    "from os.path import isdir, join\n",
    "from tensorflow.keras import layers, models\n",
    "import numpy as np"
   ]
  },
  {
   "cell_type": "code",
   "execution_count": 98,
   "id": "literary-representation",
   "metadata": {},
   "outputs": [
    {
     "name": "stdout",
     "output_type": "stream",
     "text": [
      "['eight', 'sheila', 'nine', 'yes', 'one', 'no', 'left', 'tree', 'bed', 'bird', 'go', 'wow', 'seven', 'marvin', 'dog', 'three', 'two', 'house', 'backward', 'down', 'six', 'five', 'off', 'right', 'cat', 'zero', 'four', 'forward', 'stop', 'up', 'visual', 'learn', 'on', 'happy', 'follow']\n"
     ]
    }
   ],
   "source": [
    "dataset_path = \"./speech_dataset\"\n",
    "all_targets = [name for name in listdir(dataset_path) if isdir(join(dataset_path, name))]\n",
    "all_targets.remove('_background_noise_')\n",
    "#all_targets = ['on', 'off', 'yes', 'no', 'left', 'right']\n",
    "print(all_targets)"
   ]
  },
  {
   "cell_type": "code",
   "execution_count": 99,
   "id": "olympic-revolution",
   "metadata": {},
   "outputs": [],
   "source": [
    "feature_sets_path = \"./\"\n",
    "feature_sets_filename = \"all_targets_mfcc_sets.npz\"\n",
    "model_filename = 'wake_word_stop_model.h5'\n",
    "wake_words = ['stop']"
   ]
  },
  {
   "cell_type": "code",
   "execution_count": 100,
   "id": "moving-issue",
   "metadata": {},
   "outputs": [
    {
     "name": "stdout",
     "output_type": "stream",
     "text": [
      "['x_train', 'y_train', 'x_val', 'y_val', 'x_test', 'y_test']\n"
     ]
    }
   ],
   "source": [
    "feature_sets = np.load(join(feature_sets_path, feature_sets_filename))\n",
    "print(feature_sets.files)"
   ]
  },
  {
   "cell_type": "code",
   "execution_count": 101,
   "id": "amateur-companion",
   "metadata": {},
   "outputs": [],
   "source": [
    "x_train = feature_sets['x_train']\n",
    "y_train = feature_sets['y_train']\n",
    "x_val = feature_sets['x_val']\n",
    "y_val = feature_sets['y_val']\n",
    "x_test = feature_sets['x_test']\n",
    "y_test = feature_sets['y_test']"
   ]
  },
  {
   "cell_type": "code",
   "execution_count": 102,
   "id": "married-story",
   "metadata": {},
   "outputs": [
    {
     "name": "stdout",
     "output_type": "stream",
     "text": [
      "(77466, 16, 16)\n",
      "(9685, 16, 16)\n",
      "(9705, 16, 16)\n"
     ]
    }
   ],
   "source": [
    "print(x_train.shape)\n",
    "print(x_val.shape)\n",
    "print(x_test.shape)"
   ]
  },
  {
   "cell_type": "code",
   "execution_count": 103,
   "id": "acceptable-escape",
   "metadata": {},
   "outputs": [],
   "source": [
    "wake_word_index = all_targets.index(word)\n",
    "\n",
    "y_train = np.equal(y_train, wake_word_index).astype('float64')\n",
    "y_val = np.equal(y_val, wake_word_index).astype('float64')\n",
    "y_test = np.equal(y_test, wake_word_index).astype('float64')"
   ]
  },
  {
   "cell_type": "code",
   "execution_count": 104,
   "id": "owned-following",
   "metadata": {},
   "outputs": [
    {
     "name": "stdout",
     "output_type": "stream",
     "text": [
      "(9705,)\n"
     ]
    }
   ],
   "source": [
    "print(y_test.shape)"
   ]
  },
  {
   "cell_type": "code",
   "execution_count": 105,
   "id": "hybrid-general",
   "metadata": {},
   "outputs": [
    {
     "name": "stdout",
     "output_type": "stream",
     "text": [
      "(77466, 16, 16)\n"
     ]
    }
   ],
   "source": [
    "print(x_train.shape)"
   ]
  },
  {
   "cell_type": "code",
   "execution_count": 106,
   "id": "premier-theater",
   "metadata": {},
   "outputs": [
    {
     "name": "stdout",
     "output_type": "stream",
     "text": [
      "(77466, 16, 16, 1)\n",
      "(9685, 16, 16, 1)\n",
      "(9705, 16, 16, 1)\n"
     ]
    }
   ],
   "source": [
    "x_train = x_train.reshape(x_train.shape[0], x_train.shape[1], x_train.shape[2], 1)\n",
    "x_val = x_val.reshape(x_val.shape[0], x_val.shape[1], x_val.shape[2], 1)\n",
    "x_test = x_test.reshape(x_test.shape[0], x_test.shape[1], x_test.shape[2], 1)\n",
    "\n",
    "print(x_train.shape)\n",
    "print(x_val.shape)\n",
    "print(x_test.shape)"
   ]
  },
  {
   "cell_type": "code",
   "execution_count": 107,
   "id": "billion-underground",
   "metadata": {},
   "outputs": [
    {
     "name": "stdout",
     "output_type": "stream",
     "text": [
      "(16, 16, 1)\n"
     ]
    }
   ],
   "source": [
    "sample_shape = x_test.shape[1:]\n",
    "print(sample_shape)"
   ]
  },
  {
   "cell_type": "code",
   "execution_count": 71,
   "id": "sitting-actress",
   "metadata": {},
   "outputs": [],
   "source": [
    "model = models.Sequential()\n",
    "model.add(layers.Conv2D(32,\n",
    "                        (2,2), \n",
    "                        activation='relu', \n",
    "                        input_shape=sample_shape))\n",
    "model.add(layers.MaxPooling2D(pool_size=(2,2)))\n",
    "\n",
    "model.add(layers.Conv2D(32, (2,2), activation='relu'))\n",
    "model.add(layers.MaxPooling2D(pool_size=(2,2)))\n",
    "\n",
    "model.add(layers.Conv2D(64, (2,2), activation='relu'))\n",
    "model.add(layers.MaxPooling2D(pool_size=(2,2)))\n",
    "\n",
    "model.add(layers.Flatten())\n",
    "model.add(layers.Dense(64, activation='relu'))\n",
    "model.add(layers.Dropout(0.5))\n",
    "model.add(layers.Dense(1, activation='sigmoid'))"
   ]
  },
  {
   "cell_type": "code",
   "execution_count": 72,
   "id": "mighty-filing",
   "metadata": {},
   "outputs": [
    {
     "name": "stdout",
     "output_type": "stream",
     "text": [
      "Model: \"sequential_4\"\n",
      "_________________________________________________________________\n",
      "Layer (type)                 Output Shape              Param #   \n",
      "=================================================================\n",
      "conv2d_7 (Conv2D)            (None, 15, 15, 32)        160       \n",
      "_________________________________________________________________\n",
      "max_pooling2d_6 (MaxPooling2 (None, 7, 7, 32)          0         \n",
      "_________________________________________________________________\n",
      "conv2d_8 (Conv2D)            (None, 6, 6, 32)          4128      \n",
      "_________________________________________________________________\n",
      "max_pooling2d_7 (MaxPooling2 (None, 3, 3, 32)          0         \n",
      "_________________________________________________________________\n",
      "conv2d_9 (Conv2D)            (None, 2, 2, 64)          8256      \n",
      "_________________________________________________________________\n",
      "max_pooling2d_8 (MaxPooling2 (None, 1, 1, 64)          0         \n",
      "_________________________________________________________________\n",
      "flatten_2 (Flatten)          (None, 64)                0         \n",
      "_________________________________________________________________\n",
      "dense_2 (Dense)              (None, 64)                4160      \n",
      "_________________________________________________________________\n",
      "dropout_1 (Dropout)          (None, 64)                0         \n",
      "_________________________________________________________________\n",
      "dense_3 (Dense)              (None, 1)                 65        \n",
      "=================================================================\n",
      "Total params: 16,769\n",
      "Trainable params: 16,769\n",
      "Non-trainable params: 0\n",
      "_________________________________________________________________\n"
     ]
    }
   ],
   "source": [
    "model.summary()"
   ]
  },
  {
   "cell_type": "code",
   "execution_count": 73,
   "id": "tender-newsletter",
   "metadata": {},
   "outputs": [],
   "source": [
    "model.compile(loss='binary_crossentropy',\n",
    "             optimizer='adam',\n",
    "             metrics=['acc'])"
   ]
  },
  {
   "cell_type": "code",
   "execution_count": 108,
   "id": "classical-privilege",
   "metadata": {},
   "outputs": [
    {
     "name": "stdout",
     "output_type": "stream",
     "text": [
      "Epoch 1/30\n",
      "775/775 [==============================] - 5s 6ms/step - loss: 0.2042 - acc: 0.9614 - val_loss: 0.1183 - val_acc: 0.9655\n",
      "Epoch 2/30\n",
      "775/775 [==============================] - 5s 6ms/step - loss: 0.1137 - acc: 0.9627 - val_loss: 0.1011 - val_acc: 0.9657\n",
      "Epoch 3/30\n",
      "775/775 [==============================] - 5s 6ms/step - loss: 0.1013 - acc: 0.9645 - val_loss: 0.0991 - val_acc: 0.9665\n",
      "Epoch 4/30\n",
      "775/775 [==============================] - 5s 6ms/step - loss: 0.0964 - acc: 0.9649 - val_loss: 0.0893 - val_acc: 0.9696\n",
      "Epoch 5/30\n",
      "775/775 [==============================] - 5s 6ms/step - loss: 0.0905 - acc: 0.9669 - val_loss: 0.0881 - val_acc: 0.9694\n",
      "Epoch 6/30\n",
      "775/775 [==============================] - 5s 6ms/step - loss: 0.0859 - acc: 0.9691 - val_loss: 0.0822 - val_acc: 0.9720\n",
      "Epoch 7/30\n",
      "775/775 [==============================] - 5s 6ms/step - loss: 0.0851 - acc: 0.9691 - val_loss: 0.0799 - val_acc: 0.9728\n",
      "Epoch 8/30\n",
      "775/775 [==============================] - 5s 6ms/step - loss: 0.0812 - acc: 0.9705 - val_loss: 0.0887 - val_acc: 0.9713\n",
      "Epoch 9/30\n",
      "775/775 [==============================] - 5s 6ms/step - loss: 0.0791 - acc: 0.9711 - val_loss: 0.0816 - val_acc: 0.9733\n",
      "Epoch 10/30\n",
      "775/775 [==============================] - 5s 6ms/step - loss: 0.0775 - acc: 0.9716 - val_loss: 0.0803 - val_acc: 0.9733\n",
      "Epoch 11/30\n",
      "775/775 [==============================] - 5s 6ms/step - loss: 0.0765 - acc: 0.9722 - val_loss: 0.0746 - val_acc: 0.9756\n",
      "Epoch 12/30\n",
      "775/775 [==============================] - 5s 6ms/step - loss: 0.0739 - acc: 0.9732 - val_loss: 0.0738 - val_acc: 0.9748\n",
      "Epoch 13/30\n",
      "775/775 [==============================] - 5s 6ms/step - loss: 0.0735 - acc: 0.9736 - val_loss: 0.0759 - val_acc: 0.9733\n",
      "Epoch 14/30\n",
      "775/775 [==============================] - 5s 6ms/step - loss: 0.0722 - acc: 0.9740 - val_loss: 0.0710 - val_acc: 0.9758\n",
      "Epoch 15/30\n",
      "775/775 [==============================] - 5s 6ms/step - loss: 0.0708 - acc: 0.9747 - val_loss: 0.0756 - val_acc: 0.9746\n",
      "Epoch 16/30\n",
      "775/775 [==============================] - 5s 6ms/step - loss: 0.0698 - acc: 0.9749 - val_loss: 0.0700 - val_acc: 0.9759\n",
      "Epoch 17/30\n",
      "775/775 [==============================] - 5s 6ms/step - loss: 0.0701 - acc: 0.9746 - val_loss: 0.0712 - val_acc: 0.9757\n",
      "Epoch 18/30\n",
      "775/775 [==============================] - 5s 6ms/step - loss: 0.0680 - acc: 0.9752 - val_loss: 0.0698 - val_acc: 0.9765\n",
      "Epoch 19/30\n",
      "775/775 [==============================] - 5s 6ms/step - loss: 0.0677 - acc: 0.9753 - val_loss: 0.0694 - val_acc: 0.9750\n",
      "Epoch 20/30\n",
      "775/775 [==============================] - 5s 6ms/step - loss: 0.0662 - acc: 0.9766 - val_loss: 0.0678 - val_acc: 0.9767\n",
      "Epoch 21/30\n",
      "775/775 [==============================] - 5s 6ms/step - loss: 0.0666 - acc: 0.9763 - val_loss: 0.0689 - val_acc: 0.9764\n",
      "Epoch 22/30\n",
      "775/775 [==============================] - 5s 6ms/step - loss: 0.0646 - acc: 0.9768 - val_loss: 0.0696 - val_acc: 0.9765\n",
      "Epoch 23/30\n",
      "775/775 [==============================] - 5s 6ms/step - loss: 0.0647 - acc: 0.9770 - val_loss: 0.0663 - val_acc: 0.9763\n",
      "Epoch 24/30\n",
      "775/775 [==============================] - 5s 6ms/step - loss: 0.0647 - acc: 0.9770 - val_loss: 0.0650 - val_acc: 0.9783\n",
      "Epoch 25/30\n",
      "775/775 [==============================] - 5s 6ms/step - loss: 0.0642 - acc: 0.9773 - val_loss: 0.0672 - val_acc: 0.9768\n",
      "Epoch 26/30\n",
      "775/775 [==============================] - 5s 6ms/step - loss: 0.0627 - acc: 0.9781 - val_loss: 0.0673 - val_acc: 0.9763\n",
      "Epoch 27/30\n",
      "775/775 [==============================] - 5s 7ms/step - loss: 0.0631 - acc: 0.9775 - val_loss: 0.0664 - val_acc: 0.9786\n",
      "Epoch 28/30\n",
      "775/775 [==============================] - 5s 6ms/step - loss: 0.0617 - acc: 0.9778 - val_loss: 0.0679 - val_acc: 0.9778\n",
      "Epoch 29/30\n",
      "775/775 [==============================] - 5s 6ms/step - loss: 0.0627 - acc: 0.9779 - val_loss: 0.0720 - val_acc: 0.9769\n",
      "Epoch 30/30\n",
      "775/775 [==============================] - 5s 6ms/step - loss: 0.0615 - acc: 0.9783 - val_loss: 0.0668 - val_acc: 0.9772\n"
     ]
    }
   ],
   "source": [
    "history = model.fit(x_train,\n",
    "                   y_train,\n",
    "                   epochs=30,\n",
    "                   batch_size=100,\n",
    "                   validation_data=(x_val, y_val))"
   ]
  },
  {
   "cell_type": "code",
   "execution_count": 109,
   "id": "north-static",
   "metadata": {},
   "outputs": [
    {
     "data": {
      "image/png": "[encoded data removed]",
      "text/plain": [
       "<Figure size 432x288 with 1 Axes>"
      ]
     },
     "metadata": {
      "needs_background": "light"
     },
     "output_type": "display_data"
    },
    {
     "data": {
      "image/png": "[encoded data removed]",
      "text/plain": [
       "<Figure size 432x288 with 1 Axes>"
      ]
     },
     "metadata": {
      "needs_background": "light"
     },
     "output_type": "display_data"
    }
   ],
   "source": [
    "import matplotlib.pyplot as plt\n",
    "\n",
    "acc = history.history['acc']\n",
    "val_acc = history.history['val_acc']\n",
    "loss = history.history['loss']\n",
    "val_loss = history.history['val_loss']\n",
    "\n",
    "epochs = range(1, len(acc) + 1)\n",
    "\n",
    "plt.plot(epochs, acc, 'r', label='Training Acc')\n",
    "plt.plot(epochs, val_acc, 'b', label='Validation Acc')\n",
    "plt.title('Training and Validation Accuracy')\n",
    "plt.legend()\n",
    "\n",
    "plt.figure()\n",
    "\n",
    "plt.plot(epochs, loss, 'r', label=\"Training Loss\")\n",
    "plt.plot(epochs, val_loss, 'b', label=\"Validation Loss\")\n",
    "plt.title('Training and Validation Loss')\n",
    "plt.legend()\n",
    "\n",
    "plt.show()"
   ]
  },
  {
   "cell_type": "code",
   "execution_count": 110,
   "id": "marine-reserve",
   "metadata": {},
   "outputs": [],
   "source": [
    "models.save_model(model, model_filename)"
   ]
  },
  {
   "cell_type": "code",
   "execution_count": 111,
   "id": "expensive-primary",
   "metadata": {},
   "outputs": [
    {
     "name": "stdout",
     "output_type": "stream",
     "text": [
      "304/304 [==============================] - 0s 1ms/step - loss: 0.0634 - acc: 0.9775\n"
     ]
    },
    {
     "data": {
      "text/plain": [
       "[0.06340710818767548, 0.9775373339653015]"
      ]
     },
     "execution_count": 111,
     "metadata": {},
     "output_type": "execute_result"
    }
   ],
   "source": [
    "model.evaluate(x=x_test,y=y_test)"
   ]
  },
  {
   "cell_type": "code",
   "execution_count": 115,
   "id": "competent-restriction",
   "metadata": {},
   "outputs": [
    {
     "name": "stdout",
     "output_type": "stream",
     "text": [
      "INFO:tensorflow:Assets written to: /tmp/tmpq5b93k88/assets\n"
     ]
    },
    {
     "name": "stderr",
     "output_type": "stream",
     "text": [
      "INFO:tensorflow:Assets written to: /tmp/tmpq5b93k88/assets\n"
     ]
    },
    {
     "data": {
      "text/plain": [
       "26384"
      ]
     },
     "execution_count": 115,
     "metadata": {},
     "output_type": "execute_result"
    }
   ],
   "source": [
    "from tensorflow import lite\n",
    "from tensorflow.keras import models\n",
    "import tensorflow as tf\n",
    "converter = lite.TFLiteConverter.from_keras_model(model)\n",
    "def rep_data_gen():\n",
    "    for i in range(0, 10):\n",
    "        mfcc = x_test[i]\n",
    "        mfcc = np.expand_dims(mfcc,0)\n",
    "        mfcc = mfcc.astype('float32')\n",
    "        yield [mfcc]\n",
    "        \n",
    "converter.optimizations = [lite.Optimize.DEFAULT]\n",
    "converter.target_spec.supported_ops=[tf.lite.OpsSet.TFLITE_BUILTINS_INT8]\n",
    "converter.representative_dataset = rep_data_gen\n",
    "\n",
    "converter.target_spec.supported_types = [tf.int8]\n",
    "converter.inference_input_type = tf.int8\n",
    "converter.inference_output_type = tf.int8\n",
    "model_quant_tflite = converter.convert()\n",
    "\n",
    "open('wake_word_stop_quant.tflite', 'wb').write(model_quant_tflite)"
   ]
  },
  {
   "cell_type": "code",
   "execution_count": 118,
   "id": "challenging-freedom",
   "metadata": {},
   "outputs": [],
   "source": [
    "!xxd -i wake_word_stop_quant.tflite > wake_word_stop.cc\n",
    "\n",
    "REPLACE_TEXT = 'wake_word_stop_quant.tflite'.replace('/', '_').replace('.', '_')\n",
    "!sed -i 's/'{REPLACE_TEXT}'/g_model/g' 'wake_word_stop.cc'"
   ]
  },
  {
   "cell_type": "code",
   "execution_count": 119,
   "id": "promotional-tanzania",
   "metadata": {},
   "outputs": [
    {
     "name": "stdout",
     "output_type": "stream",
     "text": [
      "  0x02, 0x00, 0x00, 0x00, 0x00, 0x00, 0x00, 0x0e, 0xc8, 0xff, 0xff, 0xff,\r\n",
      "  0x09, 0x00, 0x00, 0x00, 0x04, 0x00, 0x00, 0x00, 0x00, 0x00, 0x00, 0x09,\r\n",
      "  0x0c, 0x00, 0x0c, 0x00, 0x0b, 0x00, 0x00, 0x00, 0x00, 0x00, 0x04, 0x00,\r\n",
      "  0x0c, 0x00, 0x00, 0x00, 0x16, 0x00, 0x00, 0x00, 0x00, 0x00, 0x00, 0x16,\r\n",
      "  0xf0, 0xff, 0xff, 0xff, 0x11, 0x00, 0x00, 0x00, 0x02, 0x00, 0x00, 0x00,\r\n",
      "  0x00, 0x00, 0x00, 0x11, 0x0c, 0x00, 0x10, 0x00, 0x0f, 0x00, 0x00, 0x00,\r\n",
      "  0x08, 0x00, 0x04, 0x00, 0x0c, 0x00, 0x00, 0x00, 0x03, 0x00, 0x00, 0x00,\r\n",
      "  0x03, 0x00, 0x00, 0x00, 0x00, 0x00, 0x00, 0x03\r\n",
      "};\r\n",
      "unsigned int g_model_len = 26384;\r\n"
     ]
    }
   ],
   "source": [
    "!tail wake_word_stop.cc"
   ]
  },
  {
   "cell_type": "code",
   "execution_count": 120,
   "id": "thrown-pharmaceutical",
   "metadata": {},
   "outputs": [
    {
     "data": {
      "text/plain": [
       "25.765625"
      ]
     },
     "execution_count": 120,
     "metadata": {},
     "output_type": "execute_result"
    }
   ],
   "source": [
    "26384/1024"
   ]
  },
  {
   "cell_type": "code",
   "execution_count": null,
   "id": "printable-lodging",
   "metadata": {},
   "outputs": [],
   "source": []
  }
 ],
 "metadata": {
  "kernelspec": {
   "display_name": "Python 3",
   "language": "python",
   "name": "python3"
  },
  "language_info": {
   "codemirror_mode": {
    "name": "ipython",
    "version": 3
   },
   "file_extension": ".py",
   "mimetype": "text/x-python",
   "name": "python",
   "nbconvert_exporter": "python",
   "pygments_lexer": "ipython3",
   "version": "3.8.3"
  }
 },
 "nbformat": 4,
 "nbformat_minor": 5
}
